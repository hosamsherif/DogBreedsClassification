{
  "nbformat": 4,
  "nbformat_minor": 0,
  "metadata": {
    "kernelspec": {
      "display_name": "Python 3",
      "language": "python",
      "name": "python3"
    },
    "language_info": {
      "codemirror_mode": {
        "name": "ipython",
        "version": 3
      },
      "file_extension": ".py",
      "mimetype": "text/x-python",
      "name": "python",
      "nbconvert_exporter": "python",
      "pygments_lexer": "ipython3",
      "version": "3.6.8"
    },
    "colab": {
      "name": "Untitled.ipynb",
      "provenance": []
    },
    "accelerator": "GPU"
  },
  "cells": [
    {
      "cell_type": "code",
      "metadata": {
        "id": "oBHSzTMSBCxX"
      },
      "source": [
        "import matplotlib.pyplot as plt\n",
        "from  tensorflow import keras\n",
        "import cv2\n",
        "import numpy as np\n",
        "import random\n",
        "import os\n",
        "from sklearn.utils import shuffle\n",
        "from sklearn.model_selection import train_test_split\n",
        "import pandas as pd"
      ],
      "execution_count": 1,
      "outputs": []
    },
    {
      "cell_type": "code",
      "metadata": {
        "id": "DhRStoPrBCxd"
      },
      "source": [
        "from tensorflow.keras.applications.resnet50 import ResNet50\n",
        "from tensorflow.keras.models import Model\n",
        "from tensorflow.keras.preprocessing.image import ImageDataGenerator\n",
        "from tensorflow.keras.layers import Conv2D,MaxPooling2D,Flatten,Dense,Dropout,InputLayer,BatchNormalization , GlobalAveragePooling2D\n",
        "from tensorflow.keras.models import Sequential\n",
        "from tensorflow.keras import optimizers\n",
        "from tensorflow.keras.preprocessing.image import load_img ,img_to_array\n",
        "from tensorflow.keras.models import load_model\n",
        "from tqdm import tqdm\n",
        "import tensorflow as tf\n"
      ],
      "execution_count": 2,
      "outputs": []
    },
    {
      "cell_type": "code",
      "metadata": {
        "id": "FAKV34xmopoN"
      },
      "source": [
        "NUM_OF_CLASSES=10\n",
        "IMG_SIZE=312"
      ],
      "execution_count": 3,
      "outputs": []
    },
    {
      "cell_type": "code",
      "metadata": {
        "colab": {
          "base_uri": "https://localhost:8080/",
          "height": 204
        },
        "id": "ryDUxa1GBCxe",
        "outputId": "1395de9f-df2c-415e-b41b-8ade3b740a1c"
      },
      "source": [
        "df_train_labels=pd.read_csv('labels.csv')\n",
        "df_train_labels.sort_values(by='id',inplace=True)\n",
        "Filtered_breeds=['beagle', 'chihuahua', 'doberman','french_bulldog', 'golden_retriever', 'malamute', 'pug',\n",
        "                 'saint_bernard', 'scottish_deerhound','tibetan_mastiff']\n",
        "df_train_labels.head()"
      ],
      "execution_count": 4,
      "outputs": [
        {
          "output_type": "execute_result",
          "data": {
            "text/html": [
              "<div>\n",
              "<style scoped>\n",
              "    .dataframe tbody tr th:only-of-type {\n",
              "        vertical-align: middle;\n",
              "    }\n",
              "\n",
              "    .dataframe tbody tr th {\n",
              "        vertical-align: top;\n",
              "    }\n",
              "\n",
              "    .dataframe thead th {\n",
              "        text-align: right;\n",
              "    }\n",
              "</style>\n",
              "<table border=\"1\" class=\"dataframe\">\n",
              "  <thead>\n",
              "    <tr style=\"text-align: right;\">\n",
              "      <th></th>\n",
              "      <th>id</th>\n",
              "      <th>breed</th>\n",
              "    </tr>\n",
              "  </thead>\n",
              "  <tbody>\n",
              "    <tr>\n",
              "      <th>0</th>\n",
              "      <td>000bec180eb18c7604dcecc8fe0dba07</td>\n",
              "      <td>boston_bull</td>\n",
              "    </tr>\n",
              "    <tr>\n",
              "      <th>1</th>\n",
              "      <td>001513dfcb2ffafc82cccf4d8bbaba97</td>\n",
              "      <td>dingo</td>\n",
              "    </tr>\n",
              "    <tr>\n",
              "      <th>2</th>\n",
              "      <td>001cdf01b096e06d78e9e5112d419397</td>\n",
              "      <td>pekinese</td>\n",
              "    </tr>\n",
              "    <tr>\n",
              "      <th>3</th>\n",
              "      <td>00214f311d5d2247d5dfe4fe24b2303d</td>\n",
              "      <td>bluetick</td>\n",
              "    </tr>\n",
              "    <tr>\n",
              "      <th>4</th>\n",
              "      <td>0021f9ceb3235effd7fcde7f7538ed62</td>\n",
              "      <td>golden_retriever</td>\n",
              "    </tr>\n",
              "  </tbody>\n",
              "</table>\n",
              "</div>"
            ],
            "text/plain": [
              "                                 id             breed\n",
              "0  000bec180eb18c7604dcecc8fe0dba07       boston_bull\n",
              "1  001513dfcb2ffafc82cccf4d8bbaba97             dingo\n",
              "2  001cdf01b096e06d78e9e5112d419397          pekinese\n",
              "3  00214f311d5d2247d5dfe4fe24b2303d          bluetick\n",
              "4  0021f9ceb3235effd7fcde7f7538ed62  golden_retriever"
            ]
          },
          "metadata": {
            "tags": []
          },
          "execution_count": 4
        }
      ]
    },
    {
      "cell_type": "code",
      "metadata": {
        "id": "QxvErIaMBCxf"
      },
      "source": [
        "def one_hot_encoding(index):\n",
        "    encoded_arr=[]\n",
        "    for i in range(0,NUM_OF_CLASSES):\n",
        "        if i==index:\n",
        "            encoded_arr.append(1)\n",
        "        else:\n",
        "            encoded_arr.append(0)\n",
        "    return  encoded_arr"
      ],
      "execution_count": 5,
      "outputs": []
    },
    {
      "cell_type": "code",
      "metadata": {
        "id": "BTKGMifgBCxg"
      },
      "source": [
        "def read_data():\n",
        "    x_train=[]\n",
        "    y_train=[]\n",
        "    i=0\n",
        "    for image in sorted(os.listdir('train')):\n",
        "        dog_breed=df_train_labels.iloc[i]['breed']\n",
        "        img_title=df_train_labels.iloc[i]['id']\n",
        "        if(dog_breed in Filtered_breeds):\n",
        "            image_path = os.path.join('train',image)\n",
        "            img=cv2.imread(image_path)\n",
        "            img=cv2.resize(img,(IMG_SIZE,IMG_SIZE))\n",
        "            x_train.append(np.array(img))\n",
        "            dog_breed_index=Filtered_breeds.index(dog_breed)\n",
        "            y_train.append(np.array(one_hot_encoding(dog_breed_index)))\n",
        "        i=i+1\n",
        "    return x_train,y_train"
      ],
      "execution_count": 6,
      "outputs": []
    },
    {
      "cell_type": "code",
      "metadata": {
        "colab": {
          "base_uri": "https://localhost:8080/"
        },
        "id": "ba3c-nb3BCxg",
        "outputId": "f5d2d9f5-aa96-479f-e313-8f5e7497a75c"
      },
      "source": [
        "x_train,y_train = read_data()\n",
        "print(len(x_train))\n",
        "print(len(y_train))\n"
      ],
      "execution_count": 7,
      "outputs": [
        {
          "output_type": "stream",
          "text": [
            "841\n",
            "841\n"
          ],
          "name": "stdout"
        }
      ]
    },
    {
      "cell_type": "code",
      "metadata": {
        "id": "VxZFih4mBCxh"
      },
      "source": [
        "X_train, X_validation, Y_train, Y_validation = train_test_split(x_train, y_train,test_size=0.2, random_state=42,shuffle=True)\n",
        "\n",
        "X_train=np.array(X_train)\n",
        "Y_train=np.array(Y_train)\n",
        "\n",
        "X_validation=np.array(X_validation)\n",
        "Y_validation=np.array(Y_validation)\n"
      ],
      "execution_count": 13,
      "outputs": []
    },
    {
      "cell_type": "code",
      "metadata": {
        "id": "u71PiBHfijQt"
      },
      "source": [
        "MinCheckPoint = tf.keras.callbacks.ModelCheckpoint(\n",
        "    './model.h5', save_best_only=True, monitor='val_loss', mode='min')"
      ],
      "execution_count": 14,
      "outputs": []
    },
    {
      "cell_type": "code",
      "metadata": {
        "colab": {
          "base_uri": "https://localhost:8080/"
        },
        "id": "ccROx6IEBCxi",
        "outputId": "86852e02-6315-44ae-89cf-db7f05552459"
      },
      "source": [
        "ResnetModel=ResNet50(weights='imagenet',include_top=False,input_shape=(312,312,3))\n",
        "\n",
        "for layer in ResnetModel.layers[:-15]:\n",
        "  layer.trainable=False\n",
        "\n",
        "x=ResnetModel.layers[-1].output \n",
        "#x=keras.layers.Flatten()(x)\n",
        "x=keras.layers.GlobalAveragePooling2D()(x)\n",
        "x=Dense(512,activation='relu')(x)  \n",
        "x=Dropout(0.5)(x)\n",
        "\n",
        "out=Dense(NUM_OF_CLASSES,activation='softmax')(x)\n",
        "\n",
        "model=Model(ResnetModel.input,out)\n",
        "\n",
        "op=keras.optimizers.Adam(lr=0.00002)\n",
        "\n",
        "model.compile(loss='categorical_crossentropy',optimizer=op,metrics=['accuracy'])\n",
        "\n",
        "aug=ImageDataGenerator(horizontal_flip=True)\n",
        "model.fit_generator(generator=aug.flow(X_train,Y_train,batch_size=32),epochs=30,validation_data=(X_validation,Y_validation),verbose=True,callbacks=[MinCheckPoint])"
      ],
      "execution_count": 15,
      "outputs": [
        {
          "output_type": "stream",
          "text": [
            "/usr/local/lib/python3.7/dist-packages/tensorflow/python/keras/optimizer_v2/optimizer_v2.py:375: UserWarning: The `lr` argument is deprecated, use `learning_rate` instead.\n",
            "  \"The `lr` argument is deprecated, use `learning_rate` instead.\")\n",
            "/usr/local/lib/python3.7/dist-packages/tensorflow/python/keras/engine/training.py:1940: UserWarning: `Model.fit_generator` is deprecated and will be removed in a future version. Please use `Model.fit`, which supports generators.\n",
            "  warnings.warn('`Model.fit_generator` is deprecated and '\n"
          ],
          "name": "stderr"
        },
        {
          "output_type": "stream",
          "text": [
            "Epoch 1/30\n",
            "21/21 [==============================] - 9s 315ms/step - loss: 2.5908 - accuracy: 0.1414 - val_loss: 1.9187 - val_accuracy: 0.3314\n"
          ],
          "name": "stdout"
        },
        {
          "output_type": "stream",
          "text": [
            "/usr/local/lib/python3.7/dist-packages/tensorflow/python/keras/utils/generic_utils.py:497: CustomMaskWarning: Custom mask layers require a config and must override get_config. When loading, the custom mask layer must be passed to the custom_objects argument.\n",
            "  category=CustomMaskWarning)\n"
          ],
          "name": "stderr"
        },
        {
          "output_type": "stream",
          "text": [
            "Epoch 2/30\n",
            "21/21 [==============================] - 6s 279ms/step - loss: 1.8541 - accuracy: 0.3586 - val_loss: 1.4672 - val_accuracy: 0.5740\n",
            "Epoch 3/30\n",
            "21/21 [==============================] - 6s 279ms/step - loss: 1.4267 - accuracy: 0.5551 - val_loss: 1.0515 - val_accuracy: 0.7456\n",
            "Epoch 4/30\n",
            "21/21 [==============================] - 6s 282ms/step - loss: 1.0476 - accuracy: 0.7202 - val_loss: 0.7551 - val_accuracy: 0.8462\n",
            "Epoch 5/30\n",
            "21/21 [==============================] - 6s 282ms/step - loss: 0.7100 - accuracy: 0.8393 - val_loss: 0.5282 - val_accuracy: 0.9290\n",
            "Epoch 6/30\n",
            "21/21 [==============================] - 6s 277ms/step - loss: 0.5380 - accuracy: 0.9003 - val_loss: 0.4008 - val_accuracy: 0.9586\n",
            "Epoch 7/30\n",
            "21/21 [==============================] - 6s 290ms/step - loss: 0.3925 - accuracy: 0.9360 - val_loss: 0.3120 - val_accuracy: 0.9645\n",
            "Epoch 8/30\n",
            "21/21 [==============================] - 6s 273ms/step - loss: 0.3187 - accuracy: 0.9449 - val_loss: 0.2668 - val_accuracy: 0.9527\n",
            "Epoch 9/30\n",
            "21/21 [==============================] - 6s 272ms/step - loss: 0.2492 - accuracy: 0.9643 - val_loss: 0.2386 - val_accuracy: 0.9467\n",
            "Epoch 10/30\n",
            "21/21 [==============================] - 6s 272ms/step - loss: 0.2207 - accuracy: 0.9613 - val_loss: 0.2148 - val_accuracy: 0.9467\n",
            "Epoch 11/30\n",
            "21/21 [==============================] - 6s 274ms/step - loss: 0.1848 - accuracy: 0.9732 - val_loss: 0.1998 - val_accuracy: 0.9586\n",
            "Epoch 12/30\n",
            "21/21 [==============================] - 6s 292ms/step - loss: 0.1528 - accuracy: 0.9747 - val_loss: 0.1909 - val_accuracy: 0.9527\n",
            "Epoch 13/30\n",
            "21/21 [==============================] - 6s 275ms/step - loss: 0.1094 - accuracy: 0.9955 - val_loss: 0.1820 - val_accuracy: 0.9586\n",
            "Epoch 14/30\n",
            "21/21 [==============================] - 6s 277ms/step - loss: 0.1014 - accuracy: 0.9926 - val_loss: 0.1759 - val_accuracy: 0.9586\n",
            "Epoch 15/30\n",
            "21/21 [==============================] - 6s 293ms/step - loss: 0.0935 - accuracy: 0.9866 - val_loss: 0.1709 - val_accuracy: 0.9586\n",
            "Epoch 16/30\n",
            "21/21 [==============================] - 6s 279ms/step - loss: 0.0764 - accuracy: 0.9970 - val_loss: 0.1711 - val_accuracy: 0.9586\n",
            "Epoch 17/30\n",
            "21/21 [==============================] - 6s 276ms/step - loss: 0.0704 - accuracy: 0.9911 - val_loss: 0.1725 - val_accuracy: 0.9586\n",
            "Epoch 18/30\n",
            "21/21 [==============================] - 6s 277ms/step - loss: 0.0640 - accuracy: 0.9985 - val_loss: 0.1685 - val_accuracy: 0.9586\n",
            "Epoch 19/30\n",
            "21/21 [==============================] - 6s 277ms/step - loss: 0.0539 - accuracy: 0.9955 - val_loss: 0.1679 - val_accuracy: 0.9586\n",
            "Epoch 20/30\n",
            "21/21 [==============================] - 6s 276ms/step - loss: 0.0532 - accuracy: 0.9955 - val_loss: 0.1580 - val_accuracy: 0.9586\n",
            "Epoch 21/30\n",
            "21/21 [==============================] - 6s 276ms/step - loss: 0.0476 - accuracy: 0.9985 - val_loss: 0.1573 - val_accuracy: 0.9586\n",
            "Epoch 22/30\n",
            "21/21 [==============================] - 6s 273ms/step - loss: 0.0371 - accuracy: 1.0000 - val_loss: 0.1546 - val_accuracy: 0.9586\n",
            "Epoch 23/30\n",
            "21/21 [==============================] - 6s 273ms/step - loss: 0.0321 - accuracy: 1.0000 - val_loss: 0.1535 - val_accuracy: 0.9586\n",
            "Epoch 24/30\n",
            "21/21 [==============================] - 6s 276ms/step - loss: 0.0354 - accuracy: 0.9985 - val_loss: 0.1510 - val_accuracy: 0.9586\n",
            "Epoch 25/30\n",
            "21/21 [==============================] - 6s 277ms/step - loss: 0.0315 - accuracy: 0.9970 - val_loss: 0.1511 - val_accuracy: 0.9586\n",
            "Epoch 26/30\n",
            "21/21 [==============================] - 6s 276ms/step - loss: 0.0266 - accuracy: 0.9985 - val_loss: 0.1521 - val_accuracy: 0.9586\n",
            "Epoch 27/30\n",
            "21/21 [==============================] - 6s 276ms/step - loss: 0.0250 - accuracy: 0.9985 - val_loss: 0.1496 - val_accuracy: 0.9586\n",
            "Epoch 28/30\n",
            "21/21 [==============================] - 6s 274ms/step - loss: 0.0216 - accuracy: 1.0000 - val_loss: 0.1476 - val_accuracy: 0.9645\n",
            "Epoch 29/30\n",
            "21/21 [==============================] - 6s 276ms/step - loss: 0.0258 - accuracy: 1.0000 - val_loss: 0.1466 - val_accuracy: 0.9586\n",
            "Epoch 30/30\n",
            "21/21 [==============================] - 6s 276ms/step - loss: 0.0241 - accuracy: 0.9985 - val_loss: 0.1494 - val_accuracy: 0.9586\n"
          ],
          "name": "stdout"
        },
        {
          "output_type": "execute_result",
          "data": {
            "text/plain": [
              "<tensorflow.python.keras.callbacks.History at 0x7f5afa29d650>"
            ]
          },
          "metadata": {
            "tags": []
          },
          "execution_count": 15
        }
      ]
    },
    {
      "cell_type": "code",
      "metadata": {
        "id": "p59tz0mus8C1"
      },
      "source": [
        "from sklearn.metrics import classification_report , confusion_matrix , roc_auc_score"
      ],
      "execution_count": 40,
      "outputs": []
    },
    {
      "cell_type": "code",
      "metadata": {
        "id": "elItRar5vmtZ",
        "outputId": "3d636e30-6776-45b7-c1e8-141cbdcd1f15",
        "colab": {
          "base_uri": "https://localhost:8080/"
        }
      },
      "source": [
        "loss,accuracy=model.evaluate(X_validation,Y_validation)\n",
        "print('The Final Accuracy is {}'.format(accuracy))"
      ],
      "execution_count": 24,
      "outputs": [
        {
          "output_type": "stream",
          "text": [
            "6/6 [==============================] - 1s 150ms/step - loss: 0.1494 - accuracy: 0.9586\n",
            "The Final Accuracy is 0.9585798978805542\n"
          ],
          "name": "stdout"
        }
      ]
    },
    {
      "cell_type": "code",
      "metadata": {
        "id": "Kawb-_yovlv8",
        "outputId": "9befc472-dff0-43d4-8ea6-7d44443a442a",
        "colab": {
          "base_uri": "https://localhost:8080/"
        }
      },
      "source": [
        "y_pred=model.predict(X_validation)\n",
        "y_pred_bool=np.argmax(y_pred,axis=1)\n",
        "y_test_bool=np.argmax(Y_validation,axis=1)\n",
        "print(classification_report(y_test_bool,y_pred_bool,target_names=Filtered_breeds))\n"
      ],
      "execution_count": 38,
      "outputs": [
        {
          "output_type": "stream",
          "text": [
            "                    precision    recall  f1-score   support\n",
            "\n",
            "            beagle       1.00      1.00      1.00        21\n",
            "         chihuahua       0.87      1.00      0.93        13\n",
            "          doberman       1.00      1.00      1.00        16\n",
            "    french_bulldog       0.83      0.91      0.87        11\n",
            "  golden_retriever       1.00      0.91      0.95        22\n",
            "          malamute       0.93      0.88      0.90        16\n",
            "               pug       0.93      0.87      0.90        15\n",
            "     saint_bernard       1.00      1.00      1.00        18\n",
            "scottish_deerhound       1.00      1.00      1.00        24\n",
            "   tibetan_mastiff       0.93      1.00      0.96        13\n",
            "\n",
            "          accuracy                           0.96       169\n",
            "         macro avg       0.95      0.96      0.95       169\n",
            "      weighted avg       0.96      0.96      0.96       169\n",
            "\n"
          ],
          "name": "stdout"
        }
      ]
    },
    {
      "cell_type": "code",
      "metadata": {
        "id": "pLcqyU_Yw_gG",
        "outputId": "2a43ad50-dcda-4dd3-f085-7bbba35f4333",
        "colab": {
          "base_uri": "https://localhost:8080/"
        }
      },
      "source": [
        "print(confusion_matrix(y_test_bool,y_pred_bool))"
      ],
      "execution_count": 39,
      "outputs": [
        {
          "output_type": "stream",
          "text": [
            "[[21  0  0  0  0  0  0  0  0  0]\n",
            " [ 0 13  0  0  0  0  0  0  0  0]\n",
            " [ 0  0 16  0  0  0  0  0  0  0]\n",
            " [ 0  0  0 10  0  0  1  0  0  0]\n",
            " [ 0  1  0  0 20  1  0  0  0  0]\n",
            " [ 0  1  0  0  0 14  0  0  0  1]\n",
            " [ 0  0  0  2  0  0 13  0  0  0]\n",
            " [ 0  0  0  0  0  0  0 18  0  0]\n",
            " [ 0  0  0  0  0  0  0  0 24  0]\n",
            " [ 0  0  0  0  0  0  0  0  0 13]]\n"
          ],
          "name": "stdout"
        }
      ]
    },
    {
      "cell_type": "code",
      "metadata": {
        "id": "U3mKQstZyfXS",
        "outputId": "827e1d86-97d2-481a-bf85-acd2bc050816",
        "colab": {
          "base_uri": "https://localhost:8080/"
        }
      },
      "source": [
        "print(roc_auc_score(Y_validation,y_pred))"
      ],
      "execution_count": 42,
      "outputs": [
        {
          "output_type": "stream",
          "text": [
            "0.9987591361334642\n"
          ],
          "name": "stdout"
        }
      ]
    }
  ]
}